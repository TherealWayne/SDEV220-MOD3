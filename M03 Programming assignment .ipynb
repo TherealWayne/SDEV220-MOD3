{
 "cells": [
  {
   "cell_type": "code",
   "execution_count": 12,
   "id": "ee4d2590",
   "metadata": {},
   "outputs": [
    {
     "name": "stdout",
     "output_type": "stream",
     "text": [
      "['mozzarella', 'cinderella', 'salmonella']\n"
     ]
    }
   ],
   "source": [
    "# 7.4 \n",
    "things = [\"mozzarella\", \"cinderella\", \"salmonella\"]\n",
    "print (things)"
   ]
  },
  {
   "cell_type": "code",
   "execution_count": 13,
   "id": "ca5e34d5",
   "metadata": {},
   "outputs": [
    {
     "name": "stdout",
     "output_type": "stream",
     "text": [
      "['mozzarella', 'Cinderella', 'salmonella']\n"
     ]
    }
   ],
   "source": [
    "# 7.5 \n",
    "for i in range(len(things)):\n",
    "    if \"cinderella\" in things[i]:\n",
    "        things[i] = things[i].capitalize()\n",
    "print(things) "
   ]
  },
  {
   "cell_type": "markdown",
   "id": "e111d875",
   "metadata": {},
   "source": [
    "If a for loop was not used, it would have changed cinderella to a capital, but would have only printed \"Cinderella\"."
   ]
  },
  {
   "cell_type": "code",
   "execution_count": 17,
   "id": "a18ca971",
   "metadata": {},
   "outputs": [
    {
     "name": "stdout",
     "output_type": "stream",
     "text": [
      "['MOZZARELLA', 'Cinderella', 'salmonella']\n"
     ]
    }
   ],
   "source": [
    "# 7.6 \n",
    "for n in range(len(things)):\n",
    "    if \"mozzarella\" in things[n]:\n",
    "        things[n] = things[n].upper()\n",
    "print(things)"
   ]
  },
  {
   "cell_type": "code",
   "execution_count": 19,
   "id": "95081a80",
   "metadata": {},
   "outputs": [
    {
     "name": "stdout",
     "output_type": "stream",
     "text": [
      "['MOZZARELLA', 'Cinderella']\n"
     ]
    }
   ],
   "source": [
    "# 7.7 \n",
    "things.remove(\"salmonella\")\n",
    "print(things)"
   ]
  },
  {
   "cell_type": "code",
   "execution_count": 21,
   "id": "b7798ae4",
   "metadata": {},
   "outputs": [
    {
     "data": {
      "text/plain": [
       "['Harry', 'Ron', 'Hermione']"
      ]
     },
     "execution_count": 21,
     "metadata": {},
     "output_type": "execute_result"
    }
   ],
   "source": [
    "# 9.1 \n",
    "def good():\n",
    "    return ['Harry', 'Ron', 'Hermione']\n",
    "\n",
    "good()"
   ]
  },
  {
   "cell_type": "code",
   "execution_count": 22,
   "id": "d1d0540c",
   "metadata": {},
   "outputs": [
    {
     "name": "stdout",
     "output_type": "stream",
     "text": [
      "5\n"
     ]
    }
   ],
   "source": [
    "# 9.2\n",
    "def get_odds():\n",
    "    for number in range(10):\n",
    "        if number % 2 != 0:\n",
    "            yield number\n",
    "\n",
    "odd_generator = get_odds()\n",
    "for i, value in enumerate(odd_generator):\n",
    "    if i == 2:\n",
    "        print(value)\n",
    "        break\n"
   ]
  },
  {
   "cell_type": "code",
   "execution_count": null,
   "id": "cb1601f4",
   "metadata": {},
   "outputs": [],
   "source": []
  }
 ],
 "metadata": {
  "kernelspec": {
   "display_name": "Python 3 (ipykernel)",
   "language": "python",
   "name": "python3"
  },
  "language_info": {
   "codemirror_mode": {
    "name": "ipython",
    "version": 3
   },
   "file_extension": ".py",
   "mimetype": "text/x-python",
   "name": "python",
   "nbconvert_exporter": "python",
   "pygments_lexer": "ipython3",
   "version": "3.9.13"
  }
 },
 "nbformat": 4,
 "nbformat_minor": 5
}
